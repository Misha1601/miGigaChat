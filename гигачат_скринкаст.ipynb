{
  "cells": [
    {
      "cell_type": "markdown",
      "metadata": {
        "id": "UhxINke4kCa8"
      },
      "source": [
        "# Работа с API через библиотеку requests\n",
        "Для начала работы нужно [получить доступ](https://developers.sber.ru/docs/ru/gigachat/api/integration).\n",
        "## Авторизация\n",
        "Объявим ключи для авторизации"
      ]
    },
    {
      "cell_type": "code",
      "execution_count": null,
      "metadata": {
        "id": "kIiH4X-WjHTc"
      },
      "outputs": [],
      "source": [
        "from GIGACHAT_CREDENTIALS import ClientID, ClientSecret, Scope, AuthorizationKey\n",
        "client_id = ClientID\n",
        "secret = ClientSecret\n",
        "auth = AuthorizationKey"
      ]
    },
    {
      "cell_type": "markdown",
      "metadata": {
        "id": "lNQBBJEilk8Y"
      },
      "source": [
        "Для авторизации можно использовать либо пару client_id и secret, но это требует некоторых действий"
      ]
    },
    {
      "cell_type": "code",
      "execution_count": 2,
      "metadata": {
        "id": "QHyvxn3sla3f"
      },
      "outputs": [],
      "source": [
        "import base64\n",
        "credentials = f\"{client_id}:{secret}\"\n",
        "encoded_credentials = base64.b64encode(credentials.encode('utf-8')).decode('utf-8')"
      ]
    },
    {
      "cell_type": "markdown",
      "metadata": {
        "id": "Malam8sKntMW"
      },
      "source": [
        "И получаемая в итоге строка идентична нашему ключу auth"
      ]
    },
    {
      "cell_type": "code",
      "execution_count": 3,
      "metadata": {
        "colab": {
          "base_uri": "https://localhost:8080/"
        },
        "id": "76wp7e7SnsWZ",
        "outputId": "028aa666-d3a5-4569-82b3-a9e7d9430fc0"
      },
      "outputs": [
        {
          "data": {
            "text/plain": [
              "True"
            ]
          },
          "execution_count": 3,
          "metadata": {},
          "output_type": "execute_result"
        }
      ],
      "source": [
        "encoded_credentials == auth"
      ]
    },
    {
      "cell_type": "markdown",
      "metadata": {
        "id": "0su5Ut3toDwk"
      },
      "source": [
        "Поэтому используем для авторизации auth.\n",
        "\n",
        "[Документация по авторизации](https://developers.sber.ru/docs/ru/gigachat/api/reference/rest/post-token)\n",
        "\n",
        "Получаем токен доступа"
      ]
    },
    {
      "cell_type": "code",
      "execution_count": 4,
      "metadata": {
        "id": "twVbmbjFoKBY"
      },
      "outputs": [],
      "source": [
        "import requests\n",
        "import uuid\n",
        "\n",
        "def get_token(auth_token, scope='GIGACHAT_API_PERS'):\n",
        "    \"\"\"\n",
        "      Выполняет POST-запрос к эндпоинту, который выдает токен.\n",
        "\n",
        "      Параметры:\n",
        "      - auth_token (str): токен авторизации, необходимый для запроса.\n",
        "      - область (str): область действия запроса API. По умолчанию — «GIGACHAT_API_PERS».\n",
        "\n",
        "      Возвращает:\n",
        "      - ответ API, где токен и срок его \"годности\".\n",
        "      \"\"\"\n",
        "    # Создадим идентификатор UUID (36 знаков)\n",
        "    rq_uid = str(uuid.uuid4())\n",
        "\n",
        "    # API URL\n",
        "    url = \"https://ngw.devices.sberbank.ru:9443/api/v2/oauth\"\n",
        "\n",
        "    # Заголовки\n",
        "    headers = {\n",
        "        'Content-Type': 'application/x-www-form-urlencoded',\n",
        "        'Accept': 'application/json',\n",
        "        'RqUID': rq_uid,\n",
        "        'Authorization': f'Basic {auth_token}'\n",
        "    }\n",
        "\n",
        "    # Тело запроса\n",
        "    payload = {\n",
        "        'scope': scope\n",
        "    }\n",
        "\n",
        "    try:\n",
        "        # Делаем POST запрос с отключенной SSL верификацией\n",
        "        # (можно скачать сертификаты Минцифры, тогда отключать проверку не надо)\n",
        "        response = requests.post(url, headers=headers, data=payload, verify=False)\n",
        "        return response\n",
        "    except requests.RequestException as e:\n",
        "        print(f\"Ошибка: {str(e)}\")\n",
        "        return -1\n"
      ]
    },
    {
      "cell_type": "code",
      "execution_count": 5,
      "metadata": {
        "id": "vp8ocSoUsnL5"
      },
      "outputs": [
        {
          "name": "stdout",
          "output_type": "stream",
          "text": [
            "{\"access_token\":\"eyJjdHkiOiJqd3QiLCJlbmMiOiJBMjU2Q0JDLUhTNTEyIiwiYWxnIjoiUlNBLU9BRVAtMjU2In0.aGs_IvtQT-DzEiQa0IN2iOpXMdfPfXcg_nrI89WGxAZ78Jk3KfIYaLHhpOeIhowNPVqTmYlSPci3KgpvMSEx7ffCxRI6YPFeibfSRVTQY4s_4Vs3RRH3flEjOyeWnt33egZP5FF6Bj0_NUvGsTjAAK5gQj-idWQN8lbMdxZs7Oa8aYgFgSY_iKySEAxkjE5ivfbHpbR8qHIq2ilpyWic9lX0_U1JfDgcNpuFgNG36PTXIaBF8Lr74cO_3PXB3ejruD44n17wP_ekREV0MrOblkM4uwFign_qdzsixR3osycF4GcaN3v7Q6woQlj7YsfUkly_Bl2uSDfSP3g3J6Vdeg.HmlMnUHackBf7lbCTEm8rg.01tT2E1Z7ulKz1kjJIv_d_POUx0nWLCpmuoWwE6MwlNSxNSkQ3A1ecafVGFA26dJySKlm9l6YlDLJ1R_9Err6lfc0HLc8lpiaIZeUL-XPsbD0kcbMkq-3D7azCyE1lm7FdrWPltrWW2yg_9uZrBxPAHrMdGZ2hN6PYlP6tmSyTKltnbfHTxqorjxOUTMyn43BvNdF50NtZhs6kBJ4VEaqxLPEVROhMc4T7Jx6U9tUoHi5S43MQFuEzVfw2N23GOUEQGzfSyqIvvhR2tTA5C21RbsmMOZpT7XdDu6QZhzxVi8vl8NdtRVWRTLJw2JXgAEPeWxzMjopUokQlPBda7ukC5qVajC0JqSHWaNEENqz_Oemdwsnl1StyUw4g_yErXrSZdHu9pxEnnXFgq0tPJCSUitXgB_vuDlQ_a5CmzGmeTjMvKiXAZTftRGge5JmYbFa59Xg5QjMQSehbX9qN0FrURgYCZj4Nwq7Jmk5y_8Av1Iwo8QqHTjqkGV7Zn6AbQB-e2ihdJFIU7CdtOKgpu6n-BB00Pd-c_aeNR_pkC2Yo5Jxxjyqyt1hu5mZ1bMYIPKdS-2nplYzE0fWWkghXMLffFbatGvDS0TUQiLzWrKWB4Nii5kHLDaYP487zotCE-t-xQku5ZIdvEDMYiXYAVrBYm5sEL97HCju4Yh_IAu3CT8IXou0PzhfjPntfS9vhC1MfVKNZLfSOgTmvoRlUcFJw1c5RbpWB4x_tTNo8JgtGY.QLNg0ErfXk462y95pguQ-Mk48eRyL_Og9gB-2UO1aR4\",\"expires_at\":1742548407886}\n"
          ]
        },
        {
          "name": "stderr",
          "output_type": "stream",
          "text": [
            "c:\\projects\\miGigaChat\\env\\lib\\site-packages\\urllib3\\connectionpool.py:1097: InsecureRequestWarning: Unverified HTTPS request is being made to host 'ngw.devices.sberbank.ru'. Adding certificate verification is strongly advised. See: https://urllib3.readthedocs.io/en/latest/advanced-usage.html#tls-warnings\n",
            "  warnings.warn(\n"
          ]
        }
      ],
      "source": [
        "response = get_token(auth)\n",
        "if response != 1:\n",
        "  print(response.text)\n",
        "  giga_token = response.json()['access_token']"
      ]
    },
    {
      "cell_type": "markdown",
      "metadata": {
        "id": "5XRkDeSKlT-k"
      },
      "source": [
        "## Получение перечня моделей\n",
        "[Документация](https://developers.sber.ru/docs/ru/gigachat/api/reference/rest/get-models)"
      ]
    },
    {
      "cell_type": "code",
      "execution_count": 16,
      "metadata": {
        "id": "dYNDZdYcPkzA"
      },
      "outputs": [
        {
          "name": "stdout",
          "output_type": "stream",
          "text": [
            "[{'id': 'GigaChat', 'object': 'model', 'owned_by': 'salutedevices', 'type': 'chat'}, {'id': 'GigaChat-2', 'object': 'model', 'owned_by': 'salutedevices', 'type': 'chat'}, {'id': 'GigaChat-2-Max', 'object': 'model', 'owned_by': 'salutedevices', 'type': 'chat'}, {'id': 'GigaChat-2-Max-preview', 'object': 'model', 'owned_by': 'salutedevices', 'type': 'chat'}, {'id': 'GigaChat-2-Pro', 'object': 'model', 'owned_by': 'salutedevices', 'type': 'chat'}, {'id': 'GigaChat-2-Pro-preview', 'object': 'model', 'owned_by': 'salutedevices', 'type': 'chat'}, {'id': 'GigaChat-2-preview', 'object': 'model', 'owned_by': 'salutedevices', 'type': 'chat'}, {'id': 'GigaChat-Max', 'object': 'model', 'owned_by': 'salutedevices', 'type': 'chat'}, {'id': 'GigaChat-Max-preview', 'object': 'model', 'owned_by': 'salutedevices', 'type': 'chat'}, {'id': 'GigaChat-Plus', 'object': 'model', 'owned_by': 'salutedevices', 'type': 'chat'}, {'id': 'GigaChat-Plus-preview', 'object': 'model', 'owned_by': 'salutedevices', 'type': 'chat'}, {'id': 'GigaChat-Pro', 'object': 'model', 'owned_by': 'salutedevices', 'type': 'chat'}, {'id': 'GigaChat-Pro-preview', 'object': 'model', 'owned_by': 'salutedevices', 'type': 'chat'}, {'id': 'GigaChat-preview', 'object': 'model', 'owned_by': 'salutedevices', 'type': 'chat'}]\n",
            "GigaChat\n",
            "GigaChat-2\n",
            "GigaChat-2-Max\n",
            "GigaChat-2-Max-preview\n",
            "GigaChat-2-Pro\n",
            "GigaChat-2-Pro-preview\n",
            "GigaChat-2-preview\n",
            "GigaChat-Max\n",
            "GigaChat-Max-preview\n",
            "GigaChat-Plus\n",
            "GigaChat-Plus-preview\n",
            "GigaChat-Pro\n",
            "GigaChat-Pro-preview\n",
            "GigaChat-preview\n"
          ]
        },
        {
          "name": "stderr",
          "output_type": "stream",
          "text": [
            "c:\\projects\\miGigaChat\\env\\lib\\site-packages\\urllib3\\connectionpool.py:1097: InsecureRequestWarning: Unverified HTTPS request is being made to host 'gigachat.devices.sberbank.ru'. Adding certificate verification is strongly advised. See: https://urllib3.readthedocs.io/en/latest/advanced-usage.html#tls-warnings\n",
            "  warnings.warn(\n"
          ]
        }
      ],
      "source": [
        "import requests\n",
        "\n",
        "url = \"https://gigachat.devices.sberbank.ru/api/v1/models\"\n",
        "\n",
        "payload={}\n",
        "headers = {\n",
        "  'Accept': 'application/json',\n",
        "  'Authorization': f'Bearer {giga_token}'\n",
        "}\n",
        "\n",
        "response = requests.request(\"GET\", url, headers=headers, data=payload, verify=False)\n",
        "\n",
        "print(response.json()['data'])\n",
        "for i in response.json()['data']:\n",
        "    print(i['id'])"
      ]
    },
    {
      "cell_type": "markdown",
      "metadata": {
        "id": "ZWkoaz0gxoDZ"
      },
      "source": [
        "## Сделаем запросы на генерацию текста\n",
        "Начнем с отправки отдельных сообщений"
      ]
    },
    {
      "cell_type": "code",
      "execution_count": 22,
      "metadata": {
        "id": "IW07KDmPtBY5"
      },
      "outputs": [],
      "source": [
        "import requests\n",
        "import json\n",
        "\n",
        "def get_chat_completion(auth_token, user_message):\n",
        "    \"\"\"\n",
        "    Отправляет POST-запрос к API чата для получения ответа от модели GigaChat.\n",
        "\n",
        "    Параметры:\n",
        "    - auth_token (str): Токен для авторизации в API.\n",
        "    - user_message (str): Сообщение от пользователя, для которого нужно получить ответ.\n",
        "\n",
        "    Возвращает:\n",
        "    - str: Ответ от API в виде текстовой строки.\n",
        "    \"\"\"\n",
        "    # URL API, к которому мы обращаемся\n",
        "    url = \"https://gigachat.devices.sberbank.ru/api/v1/chat/completions\"\n",
        "\n",
        "    # Подготовка данных запроса в формате JSON\n",
        "    payload = json.dumps({\n",
        "        \"model\": \"GigaChat\",  # Используемая модель\n",
        "        \"messages\": [\n",
        "            {\n",
        "                \"role\": \"user\",  # Роль отправителя (пользователь)\n",
        "                \"content\": user_message  # Содержание сообщения\n",
        "            }\n",
        "        ],\n",
        "        \"temperature\": 1,  # Температура генерации\n",
        "        \"top_p\": 0.1,  # Параметр top_p для контроля разнообразия ответов\n",
        "        \"n\": 1,  # Количество возвращаемых ответов\n",
        "        \"stream\": False,  # Потоковая ли передача ответов\n",
        "        \"max_tokens\": 512,  # Максимальное количество токенов в ответе\n",
        "        \"repetition_penalty\": 1,  # Штраф за повторения\n",
        "        \"update_interval\": 0  # Интервал обновления (для потоковой передачи)\n",
        "    })\n",
        "\n",
        "    # Заголовки запроса\n",
        "    headers = {\n",
        "        'Content-Type': 'application/json',  # Тип содержимого - JSON\n",
        "        'Accept': 'application/json',  # Принимаем ответ в формате JSON\n",
        "        'Authorization': f'Bearer {auth_token}'  # Токен авторизации\n",
        "    }\n",
        "\n",
        "    # Выполнение POST-запроса и возвращение ответа\n",
        "    try:\n",
        "        response = requests.request(\"POST\", url, headers=headers, data=payload, verify=False)\n",
        "        return response\n",
        "    except requests.RequestException as e:\n",
        "        # Обработка исключения в случае ошибки запроса\n",
        "        print(f\"Произошла ошибка: {str(e)}\")\n",
        "        return -1\n",
        "\n"
      ]
    },
    {
      "cell_type": "code",
      "execution_count": 18,
      "metadata": {
        "id": "tk8wXlYpym4Q"
      },
      "outputs": [
        {
          "name": "stderr",
          "output_type": "stream",
          "text": [
            "c:\\projects\\miGigaChat\\env\\lib\\site-packages\\urllib3\\connectionpool.py:1097: InsecureRequestWarning: Unverified HTTPS request is being made to host 'gigachat.devices.sberbank.ru'. Adding certificate verification is strongly advised. See: https://urllib3.readthedocs.io/en/latest/advanced-usage.html#tls-warnings\n",
            "  warnings.warn(\n"
          ]
        }
      ],
      "source": [
        "answer = get_chat_completion(giga_token, 'Как на Пайтоне сделать GET запрос?')"
      ]
    },
    {
      "cell_type": "code",
      "execution_count": 19,
      "metadata": {
        "id": "meb0EHrc22kH"
      },
      "outputs": [
        {
          "data": {
            "text/plain": [
              "{'choices': [{'message': {'content': 'На Python с использованием библиотеки `requests` можно легко сделать GET-запрос. Вот пример:\\n\\n```python\\nimport requests\\n\\n# Указываем URL, к которому хотим сделать запрос\\nurl = \\'https://api.example.com/path\\'\\n\\n# Делаем GET-запрос\\nresponse = requests.get(url)\\n\\n# Проверяем статус-код ответа\\nif response.status_code == 200:\\n    # Если статус-код 200 (ОК), то можно работать с данными\\n    data = response.json()  # Преобразуем ответ в JSON\\n    print(data)\\nelse:\\n    # Если статус-код не 200, выводим ошибку\\n    print(f\"Ошибка: {response.status_code}\")\\n```\\n\\n### Пояснение:\\n1. **`requests.get(url)`** — это функция, которая делает GET-запрос к указанному URL.\\n2. **`response.json()`** — если сервер возвращает данные в формате JSON, то эта функция преобразует ответ в словарь Python.\\n3. **`response.status_code`** — возвращает код состояния ответа (например, 200 для успешного запроса).\\n\\nЕсли вам нужно сделать GET-запрос к локальному серверу или к другому порту, просто укажите соответствующий URL.',\n",
              "    'role': 'assistant'},\n",
              "   'index': 0,\n",
              "   'finish_reason': 'stop'}],\n",
              " 'created': 1742547297,\n",
              " 'model': 'GigaChat:1.0.26.20',\n",
              " 'object': 'chat.completion',\n",
              " 'usage': {'prompt_tokens': 21,\n",
              "  'completion_tokens': 317,\n",
              "  'total_tokens': 338,\n",
              "  'precached_prompt_tokens': 0}}"
            ]
          },
          "execution_count": 19,
          "metadata": {},
          "output_type": "execute_result"
        }
      ],
      "source": [
        "answer.json()"
      ]
    },
    {
      "cell_type": "code",
      "execution_count": 20,
      "metadata": {
        "id": "go-gSwti3ItM"
      },
      "outputs": [
        {
          "name": "stdout",
          "output_type": "stream",
          "text": [
            "На Python с использованием библиотеки `requests` можно легко сделать GET-запрос. Вот пример:\n",
            "\n",
            "```python\n",
            "import requests\n",
            "\n",
            "# Указываем URL, к которому хотим сделать запрос\n",
            "url = 'https://api.example.com/path'\n",
            "\n",
            "# Делаем GET-запрос\n",
            "response = requests.get(url)\n",
            "\n",
            "# Проверяем статус-код ответа\n",
            "if response.status_code == 200:\n",
            "    # Если статус-код 200 (ОК), то можно работать с данными\n",
            "    data = response.json()  # Преобразуем ответ в JSON\n",
            "    print(data)\n",
            "else:\n",
            "    # Если статус-код не 200, выводим ошибку\n",
            "    print(f\"Ошибка: {response.status_code}\")\n",
            "```\n",
            "\n",
            "### Пояснение:\n",
            "1. **`requests.get(url)`** — это функция, которая делает GET-запрос к указанному URL.\n",
            "2. **`response.json()`** — если сервер возвращает данные в формате JSON, то эта функция преобразует ответ в словарь Python.\n",
            "3. **`response.status_code`** — возвращает код состояния ответа (например, 200 для успешного запроса).\n",
            "\n",
            "Если вам нужно сделать GET-запрос к локальному серверу или к другому порту, просто укажите соответствующий URL.\n"
          ]
        }
      ],
      "source": [
        "print(answer.json()['choices'][0]['message']['content'])"
      ]
    },
    {
      "cell_type": "code",
      "execution_count": 21,
      "metadata": {
        "id": "tFVwwNeH3ilE"
      },
      "outputs": [
        {
          "data": {
            "text/markdown": [
              "На Python с использованием библиотеки `requests` можно легко сделать GET-запрос. Вот пример:\n",
              "\n",
              "```python\n",
              "import requests\n",
              "\n",
              "# Указываем URL, к которому хотим сделать запрос\n",
              "url = 'https://api.example.com/path'\n",
              "\n",
              "# Делаем GET-запрос\n",
              "response = requests.get(url)\n",
              "\n",
              "# Проверяем статус-код ответа\n",
              "if response.status_code == 200:\n",
              "    # Если статус-код 200 (ОК), то можно работать с данными\n",
              "    data = response.json()  # Преобразуем ответ в JSON\n",
              "    print(data)\n",
              "else:\n",
              "    # Если статус-код не 200, выводим ошибку\n",
              "    print(f\"Ошибка: {response.status_code}\")\n",
              "```\n",
              "\n",
              "### Пояснение:\n",
              "1. **`requests.get(url)`** — это функция, которая делает GET-запрос к указанному URL.\n",
              "2. **`response.json()`** — если сервер возвращает данные в формате JSON, то эта функция преобразует ответ в словарь Python.\n",
              "3. **`response.status_code`** — возвращает код состояния ответа (например, 200 для успешного запроса).\n",
              "\n",
              "Если вам нужно сделать GET-запрос к локальному серверу или к другому порту, просто укажите соответствующий URL."
            ],
            "text/plain": [
              "<IPython.core.display.Markdown object>"
            ]
          },
          "metadata": {},
          "output_type": "display_data"
        }
      ],
      "source": [
        "from IPython.display import display, Markdown\n",
        "display(Markdown(answer.json()['choices'][0]['message']['content']))"
      ]
    },
    {
      "cell_type": "markdown",
      "metadata": {
        "id": "Za2yDvE3G2qz"
      },
      "source": [
        "## Создадим диалог"
      ]
    },
    {
      "cell_type": "code",
      "execution_count": null,
      "metadata": {
        "id": "wizk0o-CEf9m"
      },
      "outputs": [],
      "source": [
        "import requests\n",
        "import json\n",
        "\n",
        "def get_chat_completion(auth_token, user_message, conversation_history=None):\n",
        "    \"\"\"\n",
        "    Отправляет POST-запрос к API чата для получения ответа от модели GigaChat в рамках диалога.\n",
        "\n",
        "    Параметры:\n",
        "    - auth_token (str): Токен для авторизации в API.\n",
        "    - user_message (str): Сообщение от пользователя, для которого нужно получить ответ.\n",
        "    - conversation_history (list): История диалога в виде списка сообщений (опционально).\n",
        "\n",
        "    Возвращает:\n",
        "    - response (requests.Response): Ответ от API.\n",
        "    - conversation_history (list): Обновленная история диалога.\n",
        "    \"\"\"\n",
        "    # URL API, к которому мы обращаемся\n",
        "    url = \"https://gigachat.devices.sberbank.ru/api/v1/chat/completions\"\n",
        "\n",
        "    # Если история диалога не предоставлена, инициализируем пустым списком\n",
        "    if conversation_history is None:\n",
        "        conversation_history = []\n",
        "\n",
        "    # Добавляем сообщение пользователя в историю диалога\n",
        "    conversation_history.append({\n",
        "        \"role\": \"user\",\n",
        "        \"content\": user_message\n",
        "    })\n",
        "\n",
        "    # Подготовка данных запроса в формате JSON\n",
        "    payload = json.dumps({\n",
        "        \"model\": \"GigaChat:latest\",\n",
        "        \"messages\": conversation_history,\n",
        "        \"temperature\": 1,\n",
        "        \"top_p\": 0.1,\n",
        "        \"n\": 1,\n",
        "        \"stream\": False,\n",
        "        \"max_tokens\": 512,\n",
        "        \"repetition_penalty\": 1,\n",
        "        \"update_interval\": 0\n",
        "    })\n",
        "\n",
        "    # Заголовки запроса\n",
        "    headers = {\n",
        "        'Content-Type': 'application/json',\n",
        "        'Accept': 'application/json',\n",
        "        'Authorization': f'Bearer {auth_token}'\n",
        "    }\n",
        "\n",
        "    # Выполнение POST-запроса и возвращение ответа\n",
        "    try:\n",
        "        response = requests.post(url, headers=headers, data=payload, verify=False)\n",
        "        response_data = response.json()\n",
        "        print(response_data)\n",
        "\n",
        "        # Добавляем ответ модели в историю диалога\n",
        "        conversation_history.append({\n",
        "            \"role\": \"assistant\",\n",
        "            \"content\": response_data['choices'][0]['message']['content']\n",
        "        })\n",
        "\n",
        "        return response, conversation_history\n",
        "    except requests.RequestException as e:\n",
        "        # Обработка исключения в случае ошибки запроса\n",
        "        print(f\"Произошла ошибка: {str(e)}\")\n",
        "        return None, conversation_history\n",
        "\n"
      ]
    },
    {
      "cell_type": "code",
      "execution_count": null,
      "metadata": {
        "id": "sZQpjXYBs6E9"
      },
      "outputs": [],
      "source": [
        "# Пример использования функции для диалога\n",
        "\n",
        "conversation_history = []\n",
        "\n",
        "# Пользователь отправляет первое сообщение\n",
        "response, conversation_history = get_chat_completion(giga_token, \"Привет, как дела?\", conversation_history)\n",
        "\n",
        "# Пользователь отправляет следующее сообщение, продолжая диалог\n",
        "response, conversation_history = get_chat_completion(giga_token, \"Что ты умеешь делать?\", conversation_history)\n"
      ]
    },
    {
      "cell_type": "code",
      "execution_count": null,
      "metadata": {
        "id": "YG6Rz4peKMJn"
      },
      "outputs": [],
      "source": [
        "conversation_history"
      ]
    },
    {
      "cell_type": "markdown",
      "metadata": {
        "id": "8A5ZMbPYVh2w"
      },
      "source": [
        "## Добавим системный промпт\n",
        "Системный промпт определяет роль, задавать контект и особенности общения бота с пользователем."
      ]
    },
    {
      "cell_type": "code",
      "execution_count": null,
      "metadata": {
        "id": "6INL_XYbVhHI"
      },
      "outputs": [],
      "source": [
        "conversation_history = [{\n",
        "    'role': 'system',\n",
        "    'content': 'Отвечай как бывалый пират. Пусть тебя зовут Генри Морган.'\n",
        "\n",
        "}\n",
        "\n",
        "]"
      ]
    },
    {
      "cell_type": "code",
      "execution_count": null,
      "metadata": {
        "id": "IuXqi4FbXvUz"
      },
      "outputs": [],
      "source": [
        "response, conversation_history = get_chat_completion(giga_token, 'Привет, друг!', conversation_history)"
      ]
    },
    {
      "cell_type": "code",
      "execution_count": null,
      "metadata": {
        "id": "jYnW5lZJtRRE"
      },
      "outputs": [],
      "source": [
        "response.json()['choices'][0]['message']['content']"
      ]
    },
    {
      "cell_type": "markdown",
      "metadata": {
        "id": "4pjQtWaOL_CF"
      },
      "source": [
        "## Генерация картинок Кандинским\n",
        "[Документация](https://developers.sber.ru/docs/ru/gigachat/api/reference/rest/get-file-id)\n",
        "\n",
        "Делаем запрос на генерацию прямо в GigaChat"
      ]
    },
    {
      "cell_type": "code",
      "execution_count": null,
      "metadata": {
        "id": "km8eWEvzKOkz"
      },
      "outputs": [],
      "source": [
        "import requests\n",
        "import json\n",
        "\n",
        "def send_chat_request(giga_token, user_message):\n",
        "    \"\"\"\n",
        "    Отправляет POST-запрос к API GigaChat для получения ответа от модели чата.\n",
        "\n",
        "    Параметры:\n",
        "    - giga_token (str): Токен авторизации для доступа к API GigaChat.\n",
        "    - user_message (str): Сообщение пользователя, которое будет обработано моделью GigaChat.\n",
        "\n",
        "    Возвращает:\n",
        "    - str: Строка сгенерированного ответа GigaChat с тэгом img\n",
        "    \"\"\"\n",
        "    # URL API для отправки запросов к GigaChat\n",
        "    url = \"https://gigachat.devices.sberbank.ru/api/v1/chat/completions\"\n",
        "\n",
        "    # Заголовки для HTTP-запроса\n",
        "    headers = {\n",
        "        'Content-Type': 'application/json',  # Указываем, что отправляемые данные в формате JSON\n",
        "        'Authorization': f'Bearer {giga_token}',  # Используем токен авторизации для доступа к API\n",
        "    }\n",
        "\n",
        "    # Данные для отправки в теле запроса\n",
        "    payload = {\n",
        "        \"model\": \"GigaChat:latest\",  # Указываем, что хотим использовать последнюю версию модели GigaChat\n",
        "        \"messages\": [\n",
        "            {\n",
        "                \"role\": \"user\",  # Роль отправителя - пользователь\n",
        "                \"content\": user_message  # Сообщение от пользователя\n",
        "            },\n",
        "        ],\n",
        "        \"temperature\": 0.7  # Устанавливаем температуру, чтобы управлять случайностью ответов\n",
        "    }\n",
        "\n",
        "    try:\n",
        "        # Отправляем POST-запрос к API и получаем ответ\n",
        "        response = requests.post(url, headers=headers, data=json.dumps(payload), verify=False)\n",
        "        # Выводим текст ответа. В реальных условиях следует обрабатывать ответ и проверять статус коды.\n",
        "        print(response.json())\n",
        "        return response.json()[\"choices\"][0][\"message\"][\"content\"]\n",
        "    except requests.RequestException as e:\n",
        "        # В случае возникновения исключения в процессе выполнения запроса, выводим ошибку\n",
        "        print(f\"Произошла ошибка: {str(e)}\")\n",
        "        return None\n",
        "\n",
        "\n",
        "\n"
      ]
    },
    {
      "cell_type": "code",
      "execution_count": null,
      "metadata": {
        "id": "Hl_eXKXvvMaD"
      },
      "outputs": [],
      "source": [
        "user_message = \"Нарисуй фотореалистичное изображение антропоморфного робота с \\\n",
        "ноутбуком в руках\"\n",
        "response_img_tag = send_chat_request(giga_token, user_message)\n",
        "print(response_img_tag)"
      ]
    },
    {
      "cell_type": "markdown",
      "metadata": {
        "id": "-obvskmd8v-w"
      },
      "source": [
        "Получаем само изображение и сохраняем его в файл"
      ]
    },
    {
      "cell_type": "code",
      "execution_count": null,
      "metadata": {
        "id": "00rkAbJn8Tua"
      },
      "outputs": [],
      "source": [
        "from bs4 import BeautifulSoup\n",
        "\n",
        "\n",
        "\n",
        "# Парсим HTML\n",
        "soup = BeautifulSoup(response_img_tag, 'html.parser')\n",
        "\n",
        "# Извлекаем значение атрибута `src`\n",
        "img_src = soup.img['src']\n",
        "\n",
        "print(img_src)"
      ]
    },
    {
      "cell_type": "code",
      "execution_count": null,
      "metadata": {
        "id": "0n4jcaJn9n-7"
      },
      "outputs": [],
      "source": [
        "import requests\n",
        "\n",
        "headers = {\n",
        "    'Content-Type': 'application/json',\n",
        "    'Authorization': f'Bearer {giga_token}',\n",
        "}\n",
        "\n",
        "response = requests.get(f'https://gigachat.devices.sberbank.ru/api/v1/files/{img_src}/content', headers=headers, verify=False)"
      ]
    },
    {
      "cell_type": "code",
      "execution_count": null,
      "metadata": {
        "id": "mp4DRNxY902j"
      },
      "outputs": [],
      "source": [
        "with open('image.jpg', 'wb') as f:\n",
        "    f.write(response.content)"
      ]
    },
    {
      "cell_type": "code",
      "execution_count": null,
      "metadata": {
        "id": "MHUEMF3O-KQT"
      },
      "outputs": [],
      "source": []
    }
  ],
  "metadata": {
    "colab": {
      "authorship_tag": "ABX9TyNmHSVoj7+MFiEJo18xyg8E",
      "provenance": []
    },
    "kernelspec": {
      "display_name": "env",
      "language": "python",
      "name": "python3"
    },
    "language_info": {
      "codemirror_mode": {
        "name": "ipython",
        "version": 3
      },
      "file_extension": ".py",
      "mimetype": "text/x-python",
      "name": "python",
      "nbconvert_exporter": "python",
      "pygments_lexer": "ipython3",
      "version": "3.10.9"
    }
  },
  "nbformat": 4,
  "nbformat_minor": 0
}
